{
 "cells": [
  {
   "cell_type": "code",
   "execution_count": 5,
   "metadata": {},
   "outputs": [
    {
     "data": {
      "text/plain": [
       "[]"
      ]
     },
     "execution_count": 5,
     "metadata": {},
     "output_type": "execute_result"
    }
   ],
   "source": [
    "import alpaca_trade_api as tradeapi\n",
    "\n",
    "api = tradeapi.REST('PKVBXZRT0VWL3U5RQG3Y', 'Mnm9xzhzrFh2K7b3FoD2z6gIxLtth0u64XlPrNl9', base_url='https://paper-api.alpaca.markets')\n",
    "\n",
    "\n",
    "api.list_positions()"
   ]
  },
  {
   "cell_type": "code",
   "execution_count": 7,
   "metadata": {},
   "outputs": [
    {
     "name": "stdout",
     "output_type": "stream",
     "text": [
      "{'AAPL': [Bar({   'c': 115,\n",
      "    'h': 115.32,\n",
      "    'l': 112.78,\n",
      "    'o': 114.98,\n",
      "    't': 1601265600,\n",
      "    'v': 119572328}), Bar({   'c': 114.11,\n",
      "    'h': 115.31,\n",
      "    'l': 113.57,\n",
      "    'o': 114.55,\n",
      "    't': 1601352000,\n",
      "    'v': 89125872}), Bar({   'c': 115.61,\n",
      "    'h': 117.25,\n",
      "    'l': 113.62,\n",
      "    'o': 113.77,\n",
      "    't': 1601438400,\n",
      "    'v': 115978209}), Bar({   'c': 116.8,\n",
      "    'h': 117.72,\n",
      "    'l': 115.83,\n",
      "    'o': 117.64,\n",
      "    't': 1601524800,\n",
      "    'v': 97249509}), Bar({   'c': 114.04,\n",
      "    'h': 115.37,\n",
      "    'l': 112.22,\n",
      "    'o': 112.89,\n",
      "    't': 1601611200,\n",
      "    'v': 95299887})]}\n"
     ]
    }
   ],
   "source": [
    "barset = api.get_barset('AAPL', 'day', limit=5)\n",
    "print(barset)"
   ]
  },
  {
   "cell_type": "code",
   "execution_count": 10,
   "metadata": {},
   "outputs": [
    {
     "name": "stdout",
     "output_type": "stream",
     "text": [
      "[Bar({   'c': 115,\n",
      "    'h': 115.32,\n",
      "    'l': 112.78,\n",
      "    'o': 114.98,\n",
      "    't': 1601265600,\n",
      "    'v': 119572328}), Bar({   'c': 114.11,\n",
      "    'h': 115.31,\n",
      "    'l': 113.57,\n",
      "    'o': 114.55,\n",
      "    't': 1601352000,\n",
      "    'v': 89125872}), Bar({   'c': 115.61,\n",
      "    'h': 117.25,\n",
      "    'l': 113.62,\n",
      "    'o': 113.77,\n",
      "    't': 1601438400,\n",
      "    'v': 115978209}), Bar({   'c': 116.8,\n",
      "    'h': 117.72,\n",
      "    'l': 115.83,\n",
      "    'o': 117.64,\n",
      "    't': 1601524800,\n",
      "    'v': 97249509}), Bar({   'c': 114.04,\n",
      "    'h': 115.37,\n",
      "    'l': 112.22,\n",
      "    'o': 112.89,\n",
      "    't': 1601611200,\n",
      "    'v': 95299887})]\n"
     ]
    }
   ],
   "source": [
    "aapl_bars=barset['AAPL']\n",
    "print(aapl_bars)"
   ]
  },
  {
   "cell_type": "code",
   "execution_count": 11,
   "metadata": {},
   "outputs": [
    {
     "name": "stdout",
     "output_type": "stream",
     "text": [
      "AAPL moved -0.8175334840841866% over the last 5 days\n"
     ]
    }
   ],
   "source": [
    "week_open = aapl_bars[0].o\n",
    "week_close = aapl_bars[-1].c\n",
    "percent_change = (week_close - week_open) / week_open * 100\n",
    "print('AAPL moved {}% over the last 5 days'.format(percent_change))"
   ]
  },
  {
   "cell_type": "code",
   "execution_count": 12,
   "metadata": {},
   "outputs": [
    {
     "data": {
      "text/plain": [
       "Order({   'asset_class': 'us_equity',\n",
       "    'asset_id': 'b0b6dd9d-8b9b-48a9-ba46-b9d54906e415',\n",
       "    'canceled_at': None,\n",
       "    'client_order_id': '3abdf71d-89c6-4a07-accf-6c37085c42d0',\n",
       "    'created_at': '2020-10-02T18:19:47.455581Z',\n",
       "    'expired_at': None,\n",
       "    'extended_hours': False,\n",
       "    'failed_at': None,\n",
       "    'filled_at': None,\n",
       "    'filled_avg_price': None,\n",
       "    'filled_qty': '0',\n",
       "    'hwm': None,\n",
       "    'id': 'b861e202-b789-45dd-8e84-a194c00b567c',\n",
       "    'legs': None,\n",
       "    'limit_price': None,\n",
       "    'order_class': '',\n",
       "    'order_type': 'market',\n",
       "    'qty': '1',\n",
       "    'replaced_at': None,\n",
       "    'replaced_by': None,\n",
       "    'replaces': None,\n",
       "    'side': 'buy',\n",
       "    'status': 'accepted',\n",
       "    'stop_price': None,\n",
       "    'submitted_at': '2020-10-02T18:19:47.44683Z',\n",
       "    'symbol': 'AAPL',\n",
       "    'time_in_force': 'gtc',\n",
       "    'trail_percent': None,\n",
       "    'trail_price': None,\n",
       "    'type': 'market',\n",
       "    'updated_at': '2020-10-02T18:19:47.455581Z'})"
      ]
     },
     "execution_count": 12,
     "metadata": {},
     "output_type": "execute_result"
    }
   ],
   "source": [
    "api.submit_order(\n",
    "    symbol='AAPL',\n",
    "    qty=1,\n",
    "    side='buy',\n",
    "    type='market',\n",
    "    time_in_force='gtc'\n",
    ")"
   ]
  },
  {
   "cell_type": "code",
   "execution_count": 13,
   "metadata": {},
   "outputs": [
    {
     "data": {
      "text/plain": [
       "[Position({   'asset_class': 'us_equity',\n",
       "     'asset_id': 'b0b6dd9d-8b9b-48a9-ba46-b9d54906e415',\n",
       "     'avg_entry_price': '114.04',\n",
       "     'change_today': '-0.0237177840568542',\n",
       "     'cost_basis': '114.04',\n",
       "     'current_price': '114.02',\n",
       "     'exchange': 'NASDAQ',\n",
       "     'lastday_price': '116.79',\n",
       "     'market_value': '114.02',\n",
       "     'qty': '1',\n",
       "     'side': 'long',\n",
       "     'symbol': 'AAPL',\n",
       "     'unrealized_intraday_pl': '-0.02',\n",
       "     'unrealized_intraday_plpc': '-0.0001753770606805',\n",
       "     'unrealized_pl': '-0.02',\n",
       "     'unrealized_plpc': '-0.0001753770606805'})]"
      ]
     },
     "execution_count": 13,
     "metadata": {},
     "output_type": "execute_result"
    }
   ],
   "source": [
    "api.list_positions()"
   ]
  },
  {
   "cell_type": "code",
   "execution_count": null,
   "metadata": {},
   "outputs": [],
   "source": []
  }
 ],
 "metadata": {
  "kernelspec": {
   "display_name": "Python 3",
   "language": "python",
   "name": "python3"
  },
  "language_info": {
   "codemirror_mode": {
    "name": "ipython",
    "version": 3
   },
   "file_extension": ".py",
   "mimetype": "text/x-python",
   "name": "python",
   "nbconvert_exporter": "python",
   "pygments_lexer": "ipython3",
   "version": "3.8.5"
  }
 },
 "nbformat": 4,
 "nbformat_minor": 4
}
